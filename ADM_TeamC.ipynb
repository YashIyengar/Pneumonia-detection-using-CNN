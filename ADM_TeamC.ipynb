{
  "nbformat": 4,
  "nbformat_minor": 0,
  "metadata": {
    "colab": {
      "name": "Last_Hope.ipynb",
      "version": "0.3.2",
      "provenance": []
    },
    "kernelspec": {
      "name": "python3",
      "display_name": "Python 3"
    }
  },
  "cells": [
    {
      "cell_type": "code",
      "metadata": {
        "id": "jF1iaVkgmlek",
        "colab_type": "code",
        "colab": {}
      },
      "source": [
        "import os\n",
        "import cv2\n",
        "import numpy as np\n",
        "import random\n",
        "#!pip install Image\n",
        "#import Image\n",
        "from PIL import Image\n",
        "from PIL import ImageOps\n",
        "from google.colab import drive"
      ],
      "execution_count": 0,
      "outputs": []
    },
    {
      "cell_type": "code",
      "metadata": {
        "id": "5efKQmiYmr1-",
        "colab_type": "code",
        "outputId": "67fc7b1b-e164-48b8-ae34-f6f4c0d30b7b",
        "colab": {
          "base_uri": "https://localhost:8080/",
          "height": 33
        }
      },
      "source": [
        "drive.mount('/content/gdrive')"
      ],
      "execution_count": 0,
      "outputs": [
        {
          "output_type": "stream",
          "text": [
            "Drive already mounted at /content/gdrive; to attempt to forcibly remount, call drive.mount(\"/content/gdrive\", force_remount=True).\n"
          ],
          "name": "stdout"
        }
      ]
    },
    {
      "cell_type": "code",
      "metadata": {
        "id": "oQlo22a9m31p",
        "colab_type": "code",
        "outputId": "f124b035-674b-4471-8314-8b9ecc6afa02",
        "colab": {
          "base_uri": "https://localhost:8080/",
          "height": 33
        }
      },
      "source": [
        "import numpy as np # linear algebra\n",
        "import pandas as pd # data processing, CSV file I/O (e.g. pd.read_csv)\\\n",
        "import os\n",
        "import tensorflow as tf\n",
        "from tensorflow.keras import layers, models\n",
        "import matplotlib.pyplot as plt\n",
        "import cv2\n",
        "from pathlib import Path\n",
        "from sklearn.metrics import confusion_matrix\n",
        "from mlxtend.plotting import plot_confusion_matrix\n",
        "print(os.listdir(\"/content/gdrive/My Drive/Pneumonia/chest_xray\"))"
      ],
      "execution_count": 0,
      "outputs": [
        {
          "output_type": "stream",
          "text": [
            "['val', 'train', 'test', '.DS_Store']\n"
          ],
          "name": "stdout"
        }
      ]
    },
    {
      "cell_type": "code",
      "metadata": {
        "id": "pLTGR2zsEI0l",
        "colab_type": "code",
        "colab": {}
      },
      "source": [
        "random.seed( 101 )"
      ],
      "execution_count": 0,
      "outputs": []
    },
    {
      "cell_type": "code",
      "metadata": {
        "id": "rx_w4MjZm47s",
        "colab_type": "code",
        "outputId": "cb24e7ef-2d96-4732-f8eb-963889c1a918",
        "colab": {
          "base_uri": "https://localhost:8080/",
          "height": 33
        }
      },
      "source": [
        "# Load and augment training data\n",
        "train_datagen = tf.keras.preprocessing.image.ImageDataGenerator(\n",
        "    rescale=1/255, \n",
        "    rotation_range=20, \n",
        "    width_shift_range=0.2, \n",
        "    height_shift_range=0.2, \n",
        "    horizontal_flip=True\n",
        ")\n",
        "\n",
        "train_generator = train_datagen.flow_from_directory(\n",
        "    '/content/gdrive/My Drive/Pneumonia/chest_xray/train',\n",
        "    batch_size=16,\n",
        "    target_size=(128, 128),\n",
        "    shuffle=True,\n",
        "    class_mode='categorical'\n",
        ")"
      ],
      "execution_count": 0,
      "outputs": [
        {
          "output_type": "stream",
          "text": [
            "Found 5216 images belonging to 2 classes.\n"
          ],
          "name": "stdout"
        }
      ]
    },
    {
      "cell_type": "code",
      "metadata": {
        "id": "UOCUeiWgm75E",
        "colab_type": "code",
        "outputId": "cfbcda10-2a76-40af-e263-83f188372c3d",
        "colab": {
          "base_uri": "https://localhost:8080/",
          "height": 50
        }
      },
      "source": [
        "# Load validation and test data\n",
        "val_datagen = tf.keras.preprocessing.image.ImageDataGenerator(rescale=1/255)\n",
        "val_generator = val_datagen.flow_from_directory(\n",
        "    '/content/gdrive/My Drive/Pneumonia/chest_xray/val',\n",
        "    batch_size=16,\n",
        "    target_size=(128, 128),\n",
        "    class_mode='categorical'\n",
        ")\n",
        "\n",
        "test_datagen = tf.keras.preprocessing.image.ImageDataGenerator(rescale=1/255)\n",
        "test_generator = test_datagen.flow_from_directory(\n",
        "    '/content/gdrive/My Drive/Pneumonia/chest_xray/test',\n",
        "    batch_size=16,\n",
        "    target_size=(128, 128),\n",
        "    class_mode='categorical'\n",
        ")"
      ],
      "execution_count": 0,
      "outputs": [
        {
          "output_type": "stream",
          "text": [
            "Found 16 images belonging to 2 classes.\n",
            "Found 624 images belonging to 2 classes.\n"
          ],
          "name": "stdout"
        }
      ]
    },
    {
      "cell_type": "code",
      "metadata": {
        "id": "6oh4_wgNm_Ms",
        "colab_type": "code",
        "outputId": "7295016d-147d-453d-dba7-4f825d946d6d",
        "colab": {
          "base_uri": "https://localhost:8080/",
          "height": 136
        }
      },
      "source": [
        "# Use MobileNetV2 as base model for transfer learning\n",
        "base_model = tf.keras.applications.VGG19(\n",
        "    weights='imagenet',\n",
        "    include_top=False,\n",
        "    input_shape=(128, 128, 3)\n",
        ")\n",
        "base_model.trainable = False"
      ],
      "execution_count": 0,
      "outputs": [
        {
          "output_type": "stream",
          "text": [
            "WARNING: Logging before flag parsing goes to stderr.\n",
            "W0813 00:36:13.596106 139623076452224 deprecation.py:506] From /usr/local/lib/python3.6/dist-packages/tensorflow/python/ops/init_ops.py:1251: calling VarianceScaling.__init__ (from tensorflow.python.ops.init_ops) with dtype is deprecated and will be removed in a future version.\n",
            "Instructions for updating:\n",
            "Call initializer instance with the dtype argument instead of passing it to the constructor\n"
          ],
          "name": "stderr"
        },
        {
          "output_type": "stream",
          "text": [
            "Downloading data from https://github.com/fchollet/deep-learning-models/releases/download/v0.1/vgg19_weights_tf_dim_ordering_tf_kernels_notop.h5\n",
            "80142336/80134624 [==============================] - 4s 0us/step\n"
          ],
          "name": "stdout"
        }
      ]
    },
    {
      "cell_type": "code",
      "metadata": {
        "id": "NmpkmVPynCI-",
        "colab_type": "code",
        "colab": {}
      },
      "source": [
        "# Define model\n",
        "def model():\n",
        "    model = base_model.output\n",
        "    model = tf.keras.layers.GlobalAveragePooling2D()(model)\n",
        "    model = tf.keras.layers.Dense(units=512, activation='relu')(model)\n",
        "    model = tf.keras.layers.Dropout(0.7)(model)\n",
        "    predictions = tf.keras.layers.Dense(units=2, activation='softmax')(model)\n",
        "    model = tf.keras.models.Model(inputs=base_model.input, outputs=predictions)\n",
        "    return model"
      ],
      "execution_count": 0,
      "outputs": []
    },
    {
      "cell_type": "code",
      "metadata": {
        "id": "EuUIQ2LBnFAR",
        "colab_type": "code",
        "outputId": "8b28207c-cf3e-4c88-9ada-ff414d3dc794",
        "colab": {
          "base_uri": "https://localhost:8080/",
          "height": 53
        }
      },
      "source": [
        "model = model()\n",
        "model.compile(optimizer='adam',\n",
        "              loss='categorical_crossentropy',\n",
        "              metrics=['accuracy'])"
      ],
      "execution_count": 0,
      "outputs": [
        {
          "output_type": "stream",
          "text": [
            "W0813 00:36:28.099004 139623076452224 nn_ops.py:4224] Large dropout rate: 0.7 (>0.5). In TensorFlow 2.x, dropout() uses dropout rate instead of keep_prob. Please ensure that this is intended.\n"
          ],
          "name": "stderr"
        }
      ]
    },
    {
      "cell_type": "code",
      "metadata": {
        "id": "3QFYK_DSd5KH",
        "colab_type": "code",
        "outputId": "daf2216d-732d-41aa-ef1b-3f12caa52d30",
        "colab": {
          "base_uri": "https://localhost:8080/",
          "height": 1000
        }
      },
      "source": [
        "model.summary()"
      ],
      "execution_count": 0,
      "outputs": [
        {
          "output_type": "stream",
          "text": [
            "Model: \"model\"\n",
            "_________________________________________________________________\n",
            "Layer (type)                 Output Shape              Param #   \n",
            "=================================================================\n",
            "input_1 (InputLayer)         [(None, 128, 128, 3)]     0         \n",
            "_________________________________________________________________\n",
            "block1_conv1 (Conv2D)        (None, 128, 128, 64)      1792      \n",
            "_________________________________________________________________\n",
            "block1_conv2 (Conv2D)        (None, 128, 128, 64)      36928     \n",
            "_________________________________________________________________\n",
            "block1_pool (MaxPooling2D)   (None, 64, 64, 64)        0         \n",
            "_________________________________________________________________\n",
            "block2_conv1 (Conv2D)        (None, 64, 64, 128)       73856     \n",
            "_________________________________________________________________\n",
            "block2_conv2 (Conv2D)        (None, 64, 64, 128)       147584    \n",
            "_________________________________________________________________\n",
            "block2_pool (MaxPooling2D)   (None, 32, 32, 128)       0         \n",
            "_________________________________________________________________\n",
            "block3_conv1 (Conv2D)        (None, 32, 32, 256)       295168    \n",
            "_________________________________________________________________\n",
            "block3_conv2 (Conv2D)        (None, 32, 32, 256)       590080    \n",
            "_________________________________________________________________\n",
            "block3_conv3 (Conv2D)        (None, 32, 32, 256)       590080    \n",
            "_________________________________________________________________\n",
            "block3_conv4 (Conv2D)        (None, 32, 32, 256)       590080    \n",
            "_________________________________________________________________\n",
            "block3_pool (MaxPooling2D)   (None, 16, 16, 256)       0         \n",
            "_________________________________________________________________\n",
            "block4_conv1 (Conv2D)        (None, 16, 16, 512)       1180160   \n",
            "_________________________________________________________________\n",
            "block4_conv2 (Conv2D)        (None, 16, 16, 512)       2359808   \n",
            "_________________________________________________________________\n",
            "block4_conv3 (Conv2D)        (None, 16, 16, 512)       2359808   \n",
            "_________________________________________________________________\n",
            "block4_conv4 (Conv2D)        (None, 16, 16, 512)       2359808   \n",
            "_________________________________________________________________\n",
            "block4_pool (MaxPooling2D)   (None, 8, 8, 512)         0         \n",
            "_________________________________________________________________\n",
            "block5_conv1 (Conv2D)        (None, 8, 8, 512)         2359808   \n",
            "_________________________________________________________________\n",
            "block5_conv2 (Conv2D)        (None, 8, 8, 512)         2359808   \n",
            "_________________________________________________________________\n",
            "block5_conv3 (Conv2D)        (None, 8, 8, 512)         2359808   \n",
            "_________________________________________________________________\n",
            "block5_conv4 (Conv2D)        (None, 8, 8, 512)         2359808   \n",
            "_________________________________________________________________\n",
            "block5_pool (MaxPooling2D)   (None, 4, 4, 512)         0         \n",
            "_________________________________________________________________\n",
            "global_average_pooling2d (Gl (None, 512)               0         \n",
            "_________________________________________________________________\n",
            "dense (Dense)                (None, 512)               262656    \n",
            "_________________________________________________________________\n",
            "dropout (Dropout)            (None, 512)               0         \n",
            "_________________________________________________________________\n",
            "dense_1 (Dense)              (None, 2)                 1026      \n",
            "=================================================================\n",
            "Total params: 20,288,066\n",
            "Trainable params: 263,682\n",
            "Non-trainable params: 20,024,384\n",
            "_________________________________________________________________\n"
          ],
          "name": "stdout"
        }
      ]
    },
    {
      "cell_type": "code",
      "metadata": {
        "id": "ayEl6ZQPnHjX",
        "colab_type": "code",
        "outputId": "cb548b8c-0d9a-4fa2-d3d7-6a0dc691e316",
        "colab": {
          "base_uri": "https://localhost:8080/",
          "height": 683
        }
      },
      "source": [
        "Log = model.fit_generator(\n",
        "    train_generator,\n",
        "    epochs=20,\n",
        "    verbose=1,\n",
        "    validation_data=val_generator,\n",
        ")"
      ],
      "execution_count": 0,
      "outputs": [
        {
          "output_type": "stream",
          "text": [
            "Epoch 1/20\n",
            "326/326 [==============================] - 1708s 5s/step - loss: 0.3611 - acc: 0.8326 - val_loss: 0.4873 - val_acc: 0.8125\n",
            "Epoch 2/20\n",
            "326/326 [==============================] - 1140s 3s/step - loss: 0.2600 - acc: 0.8825 - val_loss: 0.4289 - val_acc: 0.8750\n",
            "Epoch 3/20\n",
            "326/326 [==============================] - 1150s 4s/step - loss: 0.2432 - acc: 0.8924 - val_loss: 0.5037 - val_acc: 0.8125\n",
            "Epoch 4/20\n",
            "326/326 [==============================] - 1144s 4s/step - loss: 0.2328 - acc: 0.9030 - val_loss: 0.4754 - val_acc: 0.8125\n",
            "Epoch 5/20\n",
            "326/326 [==============================] - 1144s 4s/step - loss: 0.2308 - acc: 0.9016 - val_loss: 0.5471 - val_acc: 0.8125\n",
            "Epoch 6/20\n",
            "326/326 [==============================] - 1147s 4s/step - loss: 0.2075 - acc: 0.9135 - val_loss: 0.6532 - val_acc: 0.8125\n",
            "Epoch 7/20\n",
            "326/326 [==============================] - 1146s 4s/step - loss: 0.2135 - acc: 0.9149 - val_loss: 0.5674 - val_acc: 0.8125\n",
            "Epoch 8/20\n",
            "326/326 [==============================] - 1140s 3s/step - loss: 0.1991 - acc: 0.9195 - val_loss: 0.6883 - val_acc: 0.8125\n",
            "Epoch 9/20\n",
            "326/326 [==============================] - 1143s 4s/step - loss: 0.2011 - acc: 0.9170 - val_loss: 0.6668 - val_acc: 0.8125\n",
            "Epoch 10/20\n",
            "326/326 [==============================] - 1142s 4s/step - loss: 0.1903 - acc: 0.9235 - val_loss: 0.5350 - val_acc: 0.8125\n",
            "Epoch 11/20\n",
            "326/326 [==============================] - 1148s 4s/step - loss: 0.1970 - acc: 0.9158 - val_loss: 0.6889 - val_acc: 0.8125\n",
            "Epoch 12/20\n",
            "326/326 [==============================] - 1157s 4s/step - loss: 0.1889 - acc: 0.9229 - val_loss: 0.5323 - val_acc: 0.8125\n",
            "Epoch 13/20\n",
            "326/326 [==============================] - 1164s 4s/step - loss: 0.1981 - acc: 0.9164 - val_loss: 0.5309 - val_acc: 0.7500\n",
            "Epoch 14/20\n",
            "326/326 [==============================] - 1151s 4s/step - loss: 0.1916 - acc: 0.9241 - val_loss: 0.6820 - val_acc: 0.8125\n",
            "Epoch 15/20\n",
            "326/326 [==============================] - 1146s 4s/step - loss: 0.1801 - acc: 0.9285 - val_loss: 0.7077 - val_acc: 0.8125\n",
            "Epoch 16/20\n",
            "326/326 [==============================] - 1163s 4s/step - loss: 0.1825 - acc: 0.9227 - val_loss: 0.5486 - val_acc: 0.7500\n",
            "Epoch 17/20\n",
            "326/326 [==============================] - 1161s 4s/step - loss: 0.1865 - acc: 0.9287 - val_loss: 0.6040 - val_acc: 0.7500\n",
            "Epoch 18/20\n",
            "326/326 [==============================] - 1158s 4s/step - loss: 0.1840 - acc: 0.9291 - val_loss: 0.7993 - val_acc: 0.8125\n",
            "Epoch 19/20\n",
            "326/326 [==============================] - 1159s 4s/step - loss: 0.1848 - acc: 0.9268 - val_loss: 0.7061 - val_acc: 0.8125\n",
            "Epoch 20/20\n",
            "326/326 [==============================] - 1164s 4s/step - loss: 0.1839 - acc: 0.9271 - val_loss: 0.6493 - val_acc: 0.7500\n"
          ],
          "name": "stdout"
        }
      ]
    },
    {
      "cell_type": "code",
      "metadata": {
        "id": "7UN7J6uXZq_h",
        "colab_type": "code",
        "outputId": "b543d470-9390-48b2-b146-b5ec968679c9",
        "colab": {
          "base_uri": "https://localhost:8080/",
          "height": 350
        }
      },
      "source": [
        "# plot the model loss and accuracy\n",
        "train_loss = Log.history['loss']\n",
        "train_acc = Log.history['acc']\n",
        "\n",
        "valid_loss = Log.history['val_loss']\n",
        "valid_acc = Log.history['val_acc']\n",
        "\n",
        "x = [(i+1) for i in range(len(train_loss))]\n",
        "\n",
        "f,ax = plt.subplots(1,2, figsize=(12,5))\n",
        "ax[0].plot(x, train_loss)\n",
        "ax[0].plot(x, valid_loss)\n",
        "ax[0].set_title(\"Loss plot\")\n",
        "ax[0].set_xlabel(\"Epochs\")\n",
        "ax[0].set_ylabel(\"loss\")\n",
        "ax[0].legend(['train', 'valid'])\n",
        "\n",
        "\n",
        "ax[1].plot(x, train_acc)\n",
        "ax[1].plot(x, valid_acc)\n",
        "ax[1].set_title(\"Accuracy plot\")\n",
        "ax[1].set_xlabel(\"Epochs\")\n",
        "ax[1].set_ylabel(\"acc\")\n",
        "ax[1].legend(['train', 'valid'])\n",
        "\n",
        "plt.show()"
      ],
      "execution_count": 0,
      "outputs": [
        {
          "output_type": "display_data",
          "data": {
            "image/png": "[encoded data removed]",
            "text/plain": [
              "<Figure size 864x360 with 2 Axes>"
            ]
          },
          "metadata": {
            "tags": []
          }
        }
      ]
    },
    {
      "cell_type": "code",
      "metadata": {
        "id": "i-RCbfNBnNR5",
        "colab_type": "code",
        "outputId": "b9138a9d-8a54-4a83-93b6-a8a8a61cb2c8",
        "colab": {
          "base_uri": "https://localhost:8080/",
          "height": 50
        }
      },
      "source": [
        "loss, test_acc = model.evaluate_generator(\n",
        "    test_generator,\n",
        "    steps=None,\n",
        "    max_queue_size=10,\n",
        "    workers=1,\n",
        "    use_multiprocessing=True,\n",
        "    verbose=1\n",
        ")\n",
        "\n",
        "print(test_acc)"
      ],
      "execution_count": 0,
      "outputs": [
        {
          "output_type": "stream",
          "text": [
            "39/39 [==============================] - 176s 5s/step - loss: 0.3359 - acc: 0.8878\n",
            "0.88782054\n"
          ],
          "name": "stdout"
        }
      ]
    },
    {
      "cell_type": "code",
      "metadata": {
        "id": "HFz1Mv3lnQHC",
        "colab_type": "code",
        "colab": {}
      },
      "source": [
        "model.save('model.h5')"
      ],
      "execution_count": 0,
      "outputs": []
    },
    {
      "cell_type": "code",
      "metadata": {
        "id": "yJJhKooDnQ1S",
        "colab_type": "code",
        "outputId": "eaebfc52-8ffd-4a34-a61e-a5016680b75b",
        "colab": {
          "base_uri": "https://localhost:8080/",
          "height": 153
        }
      },
      "source": [
        "# Load model for testing\n",
        "model = tf.keras.models.load_model('model.h5')\n",
        "\n",
        "test_dir = Path('/content/gdrive/My Drive/Pneumonia/chest_xray/test')\n",
        "\n",
        "normal_cases_dir = test_dir / 'NORMAL'\n",
        "pneumonia_cases_dir = test_dir / 'PNEUMONIA'\n",
        "\n",
        "normal_cases = normal_cases_dir.glob('*.jpeg')\n",
        "pneumonia_cases = pneumonia_cases_dir.glob('*.jpeg')\n",
        "\n",
        "test_data = []\n",
        "test_labels = []"
      ],
      "execution_count": 0,
      "outputs": [
        {
          "output_type": "stream",
          "text": [
            "W0813 08:27:19.989789 139623076452224 deprecation.py:506] From /usr/local/lib/python3.6/dist-packages/tensorflow/python/ops/init_ops.py:97: calling GlorotUniform.__init__ (from tensorflow.python.ops.init_ops) with dtype is deprecated and will be removed in a future version.\n",
            "Instructions for updating:\n",
            "Call initializer instance with the dtype argument instead of passing it to the constructor\n",
            "W0813 08:27:19.992980 139623076452224 deprecation.py:506] From /usr/local/lib/python3.6/dist-packages/tensorflow/python/ops/init_ops.py:97: calling Zeros.__init__ (from tensorflow.python.ops.init_ops) with dtype is deprecated and will be removed in a future version.\n",
            "Instructions for updating:\n",
            "Call initializer instance with the dtype argument instead of passing it to the constructor\n",
            "W0813 08:27:20.345756 139623076452224 nn_ops.py:4224] Large dropout rate: 0.7 (>0.5). In TensorFlow 2.x, dropout() uses dropout rate instead of keep_prob. Please ensure that this is intended.\n"
          ],
          "name": "stderr"
        }
      ]
    },
    {
      "cell_type": "code",
      "metadata": {
        "id": "1yDooWr9nTez",
        "colab_type": "code",
        "outputId": "496d961f-8398-4f3f-b5e4-b1e049183d8b",
        "colab": {
          "base_uri": "https://localhost:8080/",
          "height": 50
        }
      },
      "source": [
        "\n",
        "for img in normal_cases:\n",
        "    img = cv2.imread(str(img))\n",
        "    img = cv2.resize(img, (128, 128))\n",
        "    if img.shape[2] == 1:\n",
        "        img = np.dstack([img, img, img])\n",
        "    else:\n",
        "        img = cv2.cvtColor(img, cv2.COLOR_BGR2RGB)\n",
        "    img = img.astype(np.float32)/255.\n",
        "    label = tf.keras.utils.to_categorical(0, num_classes=2)\n",
        "    test_data.append(img)\n",
        "    test_labels.append(label)\n",
        "\n",
        "for img in pneumonia_cases:\n",
        "    img = cv2.imread(str(img))\n",
        "    img = cv2.resize(img, (128, 128))\n",
        "    if img.shape[2] == 1:\n",
        "        img = np.dstack([img, img, img])\n",
        "    else:\n",
        "        img = cv2.cvtColor(img, cv2.COLOR_BGR2RGB)\n",
        "    img = img.astype(np.float32)/255.\n",
        "    label = tf.keras.utils.to_categorical(1, num_classes=2)\n",
        "    test_data.append(img)\n",
        "    test_labels.append(label)\n",
        "\n",
        "test_data = np.array(test_data)\n",
        "test_labels = np.array(test_labels)\n",
        "\n",
        "print(\"Total number of test examples: \", test_data.shape)\n",
        "print(\"Total number of labels:\", test_labels.shape)"
      ],
      "execution_count": 0,
      "outputs": [
        {
          "output_type": "stream",
          "text": [
            "Total number of test examples:  (624, 128, 128, 3)\n",
            "Total number of labels: (624, 2)\n"
          ],
          "name": "stdout"
        }
      ]
    },
    {
      "cell_type": "code",
      "metadata": {
        "id": "6P9MwOFInYVk",
        "colab_type": "code",
        "outputId": "5677865f-4577-4b61-ee3a-2082ba40835f",
        "colab": {
          "base_uri": "https://localhost:8080/",
          "height": 554
        }
      },
      "source": [
        "# Get predictions\n",
        "preds = model.predict(test_data, batch_size=16)#<-\n",
        "preds = np.argmax(preds, axis=-1)\n",
        "\n",
        "# Original labels\n",
        "orig_test_labels = np.argmax(test_labels, axis=-1)\n",
        "\n",
        "cm = confusion_matrix(orig_test_labels, preds)\n",
        "plt.figure()\n",
        "plot_confusion_matrix(cm, figsize=(12, 8), hide_ticks=True,\n",
        "                      cmap=plt.cm.Blues)\n",
        "plt.xticks(range(2), ['Normal', 'Pneumonia'], fontsize=16)\n",
        "plt.yticks(range(2), ['Normal', 'Pneumonia'], fontsize=16)\n",
        "plt.show()\n",
        "\n",
        "tn, fp, fn, tp = cm.ravel()\n",
        "\n",
        "precision = tp/(tp+fp)\n",
        "recall = tp/(tp+fn)\n",
        "\n",
        "print(\"Recall of the model is {:.2f}\".format(recall))\n",
        "print(\"Precision of the model is {:.2f}\".format(precision))"
      ],
      "execution_count": 0,
      "outputs": [
        {
          "output_type": "display_data",
          "data": {
            "text/plain": [
              "<Figure size 432x288 with 0 Axes>"
            ]
          },
          "metadata": {
            "tags": []
          }
        },
        {
          "output_type": "display_data",
          "data": {
            "image/png": "[encoded data removed]",
            "text/plain": [
              "<Figure size 864x576 with 1 Axes>"
            ]
          },
          "metadata": {
            "tags": []
          }
        },
        {
          "output_type": "stream",
          "text": [
            "Recall of the model is 0.96\n",
            "Precision of the model is 0.87\n"
          ],
          "name": "stdout"
        }
      ]
    }
  ]
}